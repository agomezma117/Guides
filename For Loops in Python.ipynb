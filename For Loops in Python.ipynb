{
 "cells": [
  {
   "cell_type": "markdown",
   "id": "b074d1eb",
   "metadata": {},
   "source": [
    "# For Loops"
   ]
  },
  {
   "cell_type": "code",
   "execution_count": 2,
   "id": "4adeabe4",
   "metadata": {},
   "outputs": [],
   "source": [
    "integers = [1,2,3,4,5]"
   ]
  },
  {
   "cell_type": "code",
   "execution_count": 3,
   "id": "7760dbfd",
   "metadata": {},
   "outputs": [
    {
     "name": "stdout",
     "output_type": "stream",
     "text": [
      "1\n",
      "2\n",
      "3\n",
      "4\n",
      "5\n"
     ]
    }
   ],
   "source": [
    "for n in integers:\n",
    "    print(n)"
   ]
  },
  {
   "cell_type": "code",
   "execution_count": 4,
   "id": "25e8c998",
   "metadata": {},
   "outputs": [
    {
     "name": "stdout",
     "output_type": "stream",
     "text": [
      "yep!\n",
      "yep!\n",
      "yep!\n",
      "yep!\n",
      "yep!\n"
     ]
    }
   ],
   "source": [
    "for n in integers:\n",
    "    print('yep!')"
   ]
  },
  {
   "cell_type": "code",
   "execution_count": 5,
   "id": "28fb78d2",
   "metadata": {},
   "outputs": [
    {
     "name": "stdout",
     "output_type": "stream",
     "text": [
      "2\n",
      "4\n",
      "6\n",
      "8\n",
      "10\n"
     ]
    }
   ],
   "source": [
    "integers = [1,2,3,4,5]\n",
    "for n in integers:\n",
    "    print(n+n)"
   ]
  },
  {
   "cell_type": "code",
   "execution_count": null,
   "id": "2bf0f326",
   "metadata": {},
   "outputs": [],
   "source": []
  },
  {
   "cell_type": "code",
   "execution_count": 6,
   "id": "b30817ea",
   "metadata": {},
   "outputs": [],
   "source": [
    "ice = {'name':'Alex', 'weekly':5, 'favorite':['Mcc', 'Chocolate']}"
   ]
  },
  {
   "cell_type": "code",
   "execution_count": 7,
   "id": "8023d374",
   "metadata": {},
   "outputs": [
    {
     "name": "stdout",
     "output_type": "stream",
     "text": [
      "Alex\n",
      "5\n",
      "['Mcc', 'Chocolate']\n"
     ]
    }
   ],
   "source": [
    "# we have to specify what we want to pull from the dictionary\n",
    "for c in ice.values():\n",
    "    print(c)"
   ]
  },
  {
   "cell_type": "code",
   "execution_count": 8,
   "id": "9f72291c",
   "metadata": {},
   "outputs": [
    {
     "name": "stdout",
     "output_type": "stream",
     "text": [
      "name -> Alex\n",
      "weekly -> 5\n",
      "favorite -> ['Mcc', 'Chocolate']\n"
     ]
    }
   ],
   "source": [
    "for key,value in ice.items():\n",
    "    print(key,'->',value)"
   ]
  },
  {
   "cell_type": "code",
   "execution_count": null,
   "id": "394e517c",
   "metadata": {},
   "outputs": [],
   "source": []
  },
  {
   "cell_type": "code",
   "execution_count": null,
   "id": "a5989519",
   "metadata": {},
   "outputs": [],
   "source": []
  },
  {
   "cell_type": "markdown",
   "id": "66fe35ed",
   "metadata": {},
   "source": [
    "# Nested For Loops"
   ]
  },
  {
   "cell_type": "code",
   "execution_count": 9,
   "id": "9df9cbd5",
   "metadata": {},
   "outputs": [],
   "source": [
    "flavors = ['Vanilla', 'Chocolate', 'Mint']\n",
    "toppings = ['Fudge', 'Oreos', 'Skittles']"
   ]
  },
  {
   "cell_type": "code",
   "execution_count": 10,
   "id": "84ba9743",
   "metadata": {},
   "outputs": [
    {
     "name": "stdout",
     "output_type": "stream",
     "text": [
      "Vanilla topped with Fudge\n",
      "Vanilla topped with Oreos\n",
      "Vanilla topped with Skittles\n",
      "Chocolate topped with Fudge\n",
      "Chocolate topped with Oreos\n",
      "Chocolate topped with Skittles\n",
      "Mint topped with Fudge\n",
      "Mint topped with Oreos\n",
      "Mint topped with Skittles\n"
     ]
    }
   ],
   "source": [
    "for x in flavors:\n",
    "    for y in toppings:\n",
    "        print(x,'topped with', y)"
   ]
  },
  {
   "cell_type": "code",
   "execution_count": null,
   "id": "138397fa",
   "metadata": {},
   "outputs": [],
   "source": []
  }
 ],
 "metadata": {
  "kernelspec": {
   "display_name": "Python 3 (ipykernel)",
   "language": "python",
   "name": "python3"
  },
  "language_info": {
   "codemirror_mode": {
    "name": "ipython",
    "version": 3
   },
   "file_extension": ".py",
   "mimetype": "text/x-python",
   "name": "python",
   "nbconvert_exporter": "python",
   "pygments_lexer": "ipython3",
   "version": "3.9.13"
  }
 },
 "nbformat": 4,
 "nbformat_minor": 5
}
