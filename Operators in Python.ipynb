{
 "cells": [
  {
   "cell_type": "markdown",
   "id": "28badb36",
   "metadata": {},
   "source": [
    "# Comparison Operators"
   ]
  },
  {
   "cell_type": "code",
   "execution_count": 3,
   "id": "e2a27d20",
   "metadata": {},
   "outputs": [
    {
     "data": {
      "text/plain": [
       "False"
      ]
     },
     "execution_count": 3,
     "metadata": {},
     "output_type": "execute_result"
    }
   ],
   "source": [
    "10 == 50"
   ]
  },
  {
   "cell_type": "code",
   "execution_count": 4,
   "id": "7b29d1bf",
   "metadata": {},
   "outputs": [
    {
     "data": {
      "text/plain": [
       "True"
      ]
     },
     "execution_count": 4,
     "metadata": {},
     "output_type": "execute_result"
    }
   ],
   "source": [
    "10 != 50"
   ]
  },
  {
   "cell_type": "code",
   "execution_count": 6,
   "id": "7c7754ca",
   "metadata": {},
   "outputs": [
    {
     "data": {
      "text/plain": [
       "False"
      ]
     },
     "execution_count": 6,
     "metadata": {},
     "output_type": "execute_result"
    }
   ],
   "source": [
    "#You can also compare strings and variables\n",
    "'Vanilla' == 'Chocolate'"
   ]
  },
  {
   "cell_type": "code",
   "execution_count": 8,
   "id": "4ca346c6",
   "metadata": {},
   "outputs": [
    {
     "data": {
      "text/plain": [
       "True"
      ]
     },
     "execution_count": 8,
     "metadata": {},
     "output_type": "execute_result"
    }
   ],
   "source": [
    "x = 'Vanilla'\n",
    "y = 'Chocolate'\n",
    "\n",
    "x != y"
   ]
  },
  {
   "cell_type": "code",
   "execution_count": null,
   "id": "ca36e211",
   "metadata": {},
   "outputs": [],
   "source": []
  },
  {
   "cell_type": "code",
   "execution_count": null,
   "id": "31244238",
   "metadata": {},
   "outputs": [],
   "source": []
  },
  {
   "cell_type": "code",
   "execution_count": 11,
   "id": "6e0f8f1f",
   "metadata": {},
   "outputs": [
    {
     "data": {
      "text/plain": [
       "True"
      ]
     },
     "execution_count": 11,
     "metadata": {},
     "output_type": "execute_result"
    }
   ],
   "source": [
    "10 >= 10"
   ]
  },
  {
   "cell_type": "code",
   "execution_count": null,
   "id": "3c02d81e",
   "metadata": {},
   "outputs": [],
   "source": []
  },
  {
   "cell_type": "markdown",
   "id": "6f9b28c4",
   "metadata": {},
   "source": [
    "# Logical Operators"
   ]
  },
  {
   "cell_type": "code",
   "execution_count": null,
   "id": "196a68ff",
   "metadata": {},
   "outputs": [],
   "source": [
    "# and\n",
    "# or\n",
    "# not"
   ]
  },
  {
   "cell_type": "code",
   "execution_count": 12,
   "id": "95877f6e",
   "metadata": {},
   "outputs": [
    {
     "data": {
      "text/plain": [
       "False"
      ]
     },
     "execution_count": 12,
     "metadata": {},
     "output_type": "execute_result"
    }
   ],
   "source": [
    "(10 > 50) and (50 > 10)"
   ]
  },
  {
   "cell_type": "code",
   "execution_count": 13,
   "id": "b8660186",
   "metadata": {},
   "outputs": [
    {
     "data": {
      "text/plain": [
       "True"
      ]
     },
     "execution_count": 13,
     "metadata": {},
     "output_type": "execute_result"
    }
   ],
   "source": [
    "(70 > 50) and (50 > 10)"
   ]
  },
  {
   "cell_type": "code",
   "execution_count": 14,
   "id": "6352918f",
   "metadata": {},
   "outputs": [
    {
     "data": {
      "text/plain": [
       "True"
      ]
     },
     "execution_count": 14,
     "metadata": {},
     "output_type": "execute_result"
    }
   ],
   "source": [
    "(10 > 50) or (50 > 10)"
   ]
  },
  {
   "cell_type": "code",
   "execution_count": 15,
   "id": "f0c7d372",
   "metadata": {},
   "outputs": [
    {
     "data": {
      "text/plain": [
       "True"
      ]
     },
     "execution_count": 15,
     "metadata": {},
     "output_type": "execute_result"
    }
   ],
   "source": [
    "('Vanilla' > 'Chocolate') or (50 > 10)"
   ]
  },
  {
   "cell_type": "code",
   "execution_count": 16,
   "id": "3fb88ad0",
   "metadata": {},
   "outputs": [
    {
     "data": {
      "text/plain": [
       "True"
      ]
     },
     "execution_count": 16,
     "metadata": {},
     "output_type": "execute_result"
    }
   ],
   "source": [
    "('Vanilla' > 'Chocolate') and (50 > 10)"
   ]
  },
  {
   "cell_type": "code",
   "execution_count": 17,
   "id": "ea41ce78",
   "metadata": {},
   "outputs": [
    {
     "data": {
      "text/plain": [
       "False"
      ]
     },
     "execution_count": 17,
     "metadata": {},
     "output_type": "execute_result"
    }
   ],
   "source": [
    "not(50 > 10)"
   ]
  },
  {
   "cell_type": "code",
   "execution_count": null,
   "id": "ee90c9a5",
   "metadata": {},
   "outputs": [],
   "source": []
  },
  {
   "cell_type": "markdown",
   "id": "39d266bc",
   "metadata": {},
   "source": [
    "# Membership Operators"
   ]
  },
  {
   "cell_type": "code",
   "execution_count": null,
   "id": "7900fe36",
   "metadata": {},
   "outputs": [],
   "source": [
    "# in\n",
    "# not in"
   ]
  },
  {
   "cell_type": "code",
   "execution_count": 18,
   "id": "3ff37aa6",
   "metadata": {},
   "outputs": [
    {
     "data": {
      "text/plain": [
       "True"
      ]
     },
     "execution_count": 18,
     "metadata": {},
     "output_type": "execute_result"
    }
   ],
   "source": [
    "ice_cream = 'I love her'\n",
    "\n",
    "'love' in 'I love her'"
   ]
  },
  {
   "cell_type": "code",
   "execution_count": 20,
   "id": "471d3ead",
   "metadata": {},
   "outputs": [
    {
     "data": {
      "text/plain": [
       "True"
      ]
     },
     "execution_count": 20,
     "metadata": {},
     "output_type": "execute_result"
    }
   ],
   "source": [
    "scoops = [1,2,3,4,5]\n",
    "\n",
    "6 not in scoops"
   ]
  },
  {
   "cell_type": "code",
   "execution_count": 21,
   "id": "90336345",
   "metadata": {},
   "outputs": [
    {
     "data": {
      "text/plain": [
       "True"
      ]
     },
     "execution_count": 21,
     "metadata": {},
     "output_type": "execute_result"
    }
   ],
   "source": [
    "scoops = [1,2,3,4,5]\n",
    "wanted = 8\n",
    "\n",
    "wanted not in scoops"
   ]
  },
  {
   "cell_type": "code",
   "execution_count": null,
   "id": "2cae8361",
   "metadata": {},
   "outputs": [],
   "source": []
  },
  {
   "cell_type": "code",
   "execution_count": null,
   "id": "0c2ed307",
   "metadata": {},
   "outputs": [],
   "source": []
  }
 ],
 "metadata": {
  "kernelspec": {
   "display_name": "Python 3 (ipykernel)",
   "language": "python",
   "name": "python3"
  },
  "language_info": {
   "codemirror_mode": {
    "name": "ipython",
    "version": 3
   },
   "file_extension": ".py",
   "mimetype": "text/x-python",
   "name": "python",
   "nbconvert_exporter": "python",
   "pygments_lexer": "ipython3",
   "version": "3.9.13"
  }
 },
 "nbformat": 4,
 "nbformat_minor": 5
}
