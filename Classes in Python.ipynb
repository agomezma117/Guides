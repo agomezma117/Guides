{
 "cells": [
  {
   "cell_type": "markdown",
   "id": "f77b6e0b",
   "metadata": {},
   "source": [
    "# Classes in Python"
   ]
  },
  {
   "cell_type": "markdown",
   "id": "8215071a",
   "metadata": {},
   "source": [
    "### Object Oriented Programming Tutorial"
   ]
  },
  {
   "cell_type": "markdown",
   "id": "377ded75",
   "metadata": {},
   "source": [
    "## Why use classes\n",
    "### 1. Safe from bugs\n",
    "####          Allow us to isolate different parts of our system. We can easily write test cases for one specific class, while obstracting away                   the details of the other dependencies.\n",
    "### 2. Easy to Understand\n",
    "####          Provides structure to code. We can group all the variables in methods that share an object and functionality together, and seperate objects from one another. \n",
    "### 3. Ready for Change\n",
    "####          We can easily add new class methods to existing objects and we can always make a new object without messing up something we already made do provide new functionality."
   ]
  },
  {
   "cell_type": "code",
   "execution_count": 46,
   "id": "9fa3a372",
   "metadata": {},
   "outputs": [],
   "source": [
    "import turtle\n",
    "\n",
    "class Polygon:\n",
    "    # to initialize a class\n",
    "    # default argument of size = 100 if not provided\n",
    "    def __init__(self, sides, name, size = 100, color = 'black', line_thickness = 3):\n",
    "        self.sides = sides\n",
    "        self.name = name\n",
    "        self.size = size\n",
    "        self.color = color\n",
    "        self.line_thickness = line_thickness\n",
    "        self.interior_angles = (self.sides - 2) * 180\n",
    "        self.angle = self.interior_angles / self.sides\n",
    "    \n",
    "    def draw(self):\n",
    "        turtle.color(self.color)\n",
    "        turtle.pensize(self.line_thickness)\n",
    "        for x in range(self.sides):\n",
    "            turtle.forward(self.size)\n",
    "            turtle.right(180 - self.angle)        \n",
    "# Only need to pass to the init method is the stuff after self (sides and name)        \n",
    "#square = Polygon(4, 'Square')\n",
    "#pentagon = Polygon(5, 'Pentagon')\n",
    "\n",
    "#print(square.sides)\n",
    "#print(square.interior_angles)\n",
    "#print(square.angle)"
   ]
  },
  {
   "cell_type": "code",
   "execution_count": 6,
   "id": "da34c35a",
   "metadata": {},
   "outputs": [],
   "source": [
    "# self is known to be there, you can skip it when using the method\n",
    "square.draw()"
   ]
  },
  {
   "cell_type": "code",
   "execution_count": 3,
   "id": "9d3b4074",
   "metadata": {},
   "outputs": [
    {
     "name": "stdout",
     "output_type": "stream",
     "text": [
      "5\n",
      "Pentagon\n"
     ]
    }
   ],
   "source": [
    "print(pentagon.sides)\n",
    "print(pentagon.name)"
   ]
  },
  {
   "cell_type": "code",
   "execution_count": 12,
   "id": "04d558fc",
   "metadata": {},
   "outputs": [],
   "source": [
    "pentagon.draw()"
   ]
  },
  {
   "cell_type": "code",
   "execution_count": 25,
   "id": "e8ba8308",
   "metadata": {},
   "outputs": [],
   "source": [
    "# You can override the default by specifying the size\n",
    "hexagon = Polygon(6, 'Hexagon', 50, color = 'red', line_thickness = 10)\n",
    "hexagon.draw()"
   ]
  },
  {
   "cell_type": "markdown",
   "id": "b3a7b092",
   "metadata": {},
   "source": [
    "### Inheritance"
   ]
  },
  {
   "cell_type": "code",
   "execution_count": 32,
   "id": "06fcce56",
   "metadata": {},
   "outputs": [
    {
     "name": "stdout",
     "output_type": "stream",
     "text": [
      "4\n",
      "90.0\n"
     ]
    }
   ],
   "source": [
    "class Square(Polygon):\n",
    "    def __init__(self, size = 100, color = 'black', line_thickness = 3):\n",
    "        super().__init__(4,'Square', size, color, line_thickness)\n",
    "        \n",
    "\n",
    "square = Square(color = '123abc')\n",
    "\n",
    "print(square.sides)\n",
    "print(square.angle)\n",
    "print(square.draw())"
   ]
  },
  {
   "cell_type": "markdown",
   "id": "29d87c1f",
   "metadata": {},
   "source": [
    "### Class Method Overriding"
   ]
  },
  {
   "cell_type": "code",
   "execution_count": 47,
   "id": "250e2ce6",
   "metadata": {},
   "outputs": [
    {
     "name": "stdout",
     "output_type": "stream",
     "text": [
      "4\n",
      "90.0\n",
      "None\n"
     ]
    }
   ],
   "source": [
    "class Square(Polygon):\n",
    "    def __init__(self, size = 100, color = 'black', line_thickness = 3):\n",
    "        super().__init__(4,'Square', size, color, line_thickness)\n",
    "        \n",
    "    def draw(self):\n",
    "        turtle.begin_fill()\n",
    "        super().draw()\n",
    "        turtle.end_fill()\n",
    "\n",
    "square = Square(color = '#123abc', size = 200)        \n",
    "        \n",
    "print(square.sides)\n",
    "print(square.angle)\n",
    "print(square.draw())\n",
    "turtle.done()"
   ]
  },
  {
   "cell_type": "markdown",
   "id": "d683eae8",
   "metadata": {},
   "source": [
    "### Operator Overloading"
   ]
  },
  {
   "cell_type": "code",
   "execution_count": 51,
   "id": "767bab23",
   "metadata": {},
   "outputs": [
    {
     "data": {
      "image/png": "[encoded data removed]",
      "text/plain": [
       "<Figure size 640x480 with 1 Axes>"
      ]
     },
     "metadata": {},
     "output_type": "display_data"
    }
   ],
   "source": [
    "import matplotlib.pyplot as plt\n",
    "class Point:\n",
    "    def __init__(self, x, y):\n",
    "        self.x = x\n",
    "        self.y = y\n",
    "        \n",
    "    def __add__(self, other):\n",
    "        if isinstance(other, Point):\n",
    "            x = self.x + other.x\n",
    "            y = self.y + other.y\n",
    "            return Point(x,y)\n",
    "        else:\n",
    "            x = self.x + other\n",
    "            y = self.y + other\n",
    "            return Point(x,y)\n",
    "    \n",
    "    def plot(self):\n",
    "        plt.scatter(self.x, self.y)\n",
    "        \n",
    "a = Point(4,5)\n",
    "a.plot()\n",
    "plt.show()"
   ]
  },
  {
   "cell_type": "code",
   "execution_count": 50,
   "id": "a9dd144b",
   "metadata": {},
   "outputs": [
    {
     "name": "stdout",
     "output_type": "stream",
     "text": [
      "3 3\n"
     ]
    }
   ],
   "source": [
    "a = Point(1,1)\n",
    "b = Point(2,2)\n",
    "c = a + b\n",
    "print(c.x, c.y)"
   ]
  },
  {
   "cell_type": "code",
   "execution_count": 52,
   "id": "c50cf9dc",
   "metadata": {},
   "outputs": [
    {
     "name": "stdout",
     "output_type": "stream",
     "text": [
      "5 7\n"
     ]
    }
   ],
   "source": [
    "a = Point(0,2)\n",
    "d = a + 5\n",
    "print(d.x, d.y)"
   ]
  },
  {
   "cell_type": "markdown",
   "id": "c369a781",
   "metadata": {},
   "source": [
    "# END"
   ]
  }
 ],
 "metadata": {
  "kernelspec": {
   "display_name": "Python 3 (ipykernel)",
   "language": "python",
   "name": "python3"
  },
  "language_info": {
   "codemirror_mode": {
    "name": "ipython",
    "version": 3
   },
   "file_extension": ".py",
   "mimetype": "text/x-python",
   "name": "python",
   "nbconvert_exporter": "python",
   "pygments_lexer": "ipython3",
   "version": "3.9.13"
  }
 },
 "nbformat": 4,
 "nbformat_minor": 5
}
